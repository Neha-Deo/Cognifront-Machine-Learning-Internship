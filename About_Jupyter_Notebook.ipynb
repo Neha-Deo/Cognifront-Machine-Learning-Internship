{
  "nbformat": 4,
  "nbformat_minor": 0,
  "metadata": {
    "colab": {
      "name": "About Jupyter Notebook.ipynb",
      "provenance": [],
      "collapsed_sections": []
    },
    "kernelspec": {
      "name": "python3",
      "display_name": "Python 3"
    },
    "language_info": {
      "name": "python"
    }
  },
  "cells": [
    {
      "cell_type": "markdown",
      "source": [
        "**Company : Cognifront**\n",
        "\n",
        "---\n",
        "\n",
        "**Machine Learning Intern**\n",
        "\n",
        "---\n",
        "\n",
        "**Name : Neha Deo**\n",
        "\n",
        "---\n",
        "\n",
        "**Assignment : About Jupyter Notebook**\n",
        "\n",
        "---"
      ],
      "metadata": {
        "id": "rgSFiKJRnvLL"
      }
    },
    {
      "cell_type": "markdown",
      "source": [
        "**What Is A Jupyter Notebook ?** \n",
        "\n",
        "*   The Jupyter Notebook is an open source web application that can be used to  create and share documents that contain live code, equations, visualizations, and text. \n",
        "\n",
        "*   The name, Jupyter, comes from the languages it supports namely: Julia, Python, and R.\n",
        "\n",
        "*   Jupyter comes with IPython kernel, which allows you to write your programs in Python.\n",
        "\n",
        "*   A Jupyter Notebook is a powerful tool for interactively developing programs in Python language.\n",
        "\n",
        "*   Because of the mix of code and text elements, these documents are the ideal place to bring together an analysis description, and its results, as well as, they can be executed to perform the data analysis in real time.\n",
        "\n",
        "*   Jupyter Notebook has two main components namely the kernels and a dashboard.\n",
        "A kernel is a program that runs and interprets the code. The Jupyter Notebook App has a kernel for Python as well as for many other programming languages.\n",
        "\n",
        "*   The dashboard shows you the notebook documents that you have made. You can reopen it and can also use to manage the kernels.\n",
        "\n",
        "*   Jupyter notebook is a client-server application. The application starts the server on the local machine or in the cloud and opens the notebook interface in web browser.\n"
      ],
      "metadata": {
        "id": "sze6sZLPoO-T"
      }
    },
    {
      "cell_type": "markdown",
      "source": [
        "**Exporting Notebooks**\n",
        "\n",
        "You can share your work with other people by using nbconvert tool which comes with Jupyter Notebook. The notebook is saved as ipynb file. Jupyter Notebook can be exported into one of the following formats :\n",
        "\n",
        "*   HTML\n",
        "*   PDF\n",
        "*   Markdown\n",
        "*   LaTex\n",
        "*   Executable script\n",
        "\n"
      ],
      "metadata": {
        "id": "nZFp352Xra0P"
      }
    }
  ]
}