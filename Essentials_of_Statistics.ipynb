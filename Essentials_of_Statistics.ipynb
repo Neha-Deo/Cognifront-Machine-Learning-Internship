{
  "nbformat": 4,
  "nbformat_minor": 0,
  "metadata": {
    "colab": {
      "name": "Essentials_of_Statistics.ipynb",
      "provenance": [],
      "collapsed_sections": [],
      "toc_visible": true
    },
    "kernelspec": {
      "name": "python3",
      "display_name": "Python 3"
    },
    "language_info": {
      "name": "python"
    }
  },
  "cells": [
    {
      "cell_type": "markdown",
      "source": [
        "**Company : Cognifront**\n",
        "\n",
        "---\n",
        "\n",
        "**Machine Learning Intern**\n",
        "\n",
        "---\n",
        "\n",
        "**Name : Neha Deo**\n",
        "\n",
        "---\n",
        "\n",
        "**Assignment : Essentials of Statistics**\n",
        "\n",
        "---"
      ],
      "metadata": {
        "id": "B7HMjw0J1_98"
      }
    },
    {
      "cell_type": "markdown",
      "source": [
        "**Problem-1 : Find the mean, median of following list using numpy.**\n",
        "\n",
        "**List1 = 12,28,13,47,35,79,28,97,101** "
      ],
      "metadata": {
        "id": "msh0NIv62QrB"
      }
    },
    {
      "cell_type": "code",
      "metadata": {
        "colab": {
          "base_uri": "https://localhost:8080/"
        },
        "id": "d24Pi6DdyWpO",
        "outputId": "804bb8f0-b00a-4bf4-af5a-54ae3f15bdf2"
      },
      "source": [
        "import numpy as np\n",
        "\n",
        "List1 = 12,28,13,47,35,79,28,97,101\n",
        "\n",
        "print(\"Mean : \", np.mean(List1))\n",
        "print(\"Median : \", np.median(List1))"
      ],
      "execution_count": null,
      "outputs": [
        {
          "output_type": "stream",
          "text": [
            "Mean :  48.888888888888886\n",
            "Median :  35.0\n"
          ],
          "name": "stdout"
        }
      ]
    },
    {
      "cell_type": "markdown",
      "source": [
        "**Problem-2 : Find the standard deviation, 90 th percentile of given company data.**\n",
        "\n",
        "**Sale = [1, 5, 8, 9, 7, 11, 8, 12, 14, 9, 5]**"
      ],
      "metadata": {
        "id": "gak0MTJ62r6-"
      }
    },
    {
      "cell_type": "code",
      "metadata": {
        "colab": {
          "base_uri": "https://localhost:8080/"
        },
        "id": "oChGubUQzMqQ",
        "outputId": "aa2ed96b-addc-4fb6-c6a2-73cd83042443"
      },
      "source": [
        "import numpy as np\n",
        "\n",
        "Sale = [1, 5, 8, 9, 7, 11, 8, 12, 14, 9, 5]\n",
        "\n",
        "print(\"Standard Deviation : \", np.std(Sale))\n",
        "print(\"90th Percentile of given Data : \", np.percentile(Sale, 90))"
      ],
      "execution_count": null,
      "outputs": [
        {
          "output_type": "stream",
          "text": [
            "Standard Deviation :  3.4497574474564137\n",
            "90th Percentile of given Data :  12.0\n"
          ],
          "name": "stdout"
        }
      ]
    }
  ]
}