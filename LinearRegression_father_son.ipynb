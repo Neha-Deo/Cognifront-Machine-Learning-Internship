{
  "nbformat": 4,
  "nbformat_minor": 0,
  "metadata": {
    "colab": {
      "name": "LinearRegression_father_son.ipynb",
      "provenance": [],
      "collapsed_sections": []
    },
    "kernelspec": {
      "name": "python3",
      "display_name": "Python 3"
    },
    "language_info": {
      "name": "python"
    }
  },
  "cells": [
    {
      "cell_type": "markdown",
      "source": [
        "**Company : Cognifront**\n",
        "\n",
        "---\n",
        "\n",
        "**Machine Learning Intern**\n",
        "\n",
        "---\n",
        "\n",
        "**Name : Neha Deo**\n",
        "\n",
        "---\n",
        "\n",
        "**Assignment : Solve the Linear Regression algorithm of M.L using the given dataset father_son.csv.**\n",
        "\n",
        "**1) Input feature is Father's height and Output variable is Son's height**\n",
        "\n",
        "**2) Split the data into training and testing parts : 80% for training and 20% for testing.**\n",
        "\n",
        "**3) Execute your program and note down the following points :**\n",
        "     \n",
        "   **i) accuracy**\n",
        "\n",
        "   **ii) predict son height by giving fathers height as 63,55,71.3**\n",
        "     \n",
        "   **iii) try new prediction by giving unknown inputs to the model**"
      ],
      "metadata": {
        "id": "llzwAp8Wi1IA"
      }
    },
    {
      "cell_type": "markdown",
      "source": [
        "**Importing Libraries and Acquiring Dataset**"
      ],
      "metadata": {
        "id": "J2Jo-XH3j7Ux"
      }
    },
    {
      "cell_type": "code",
      "metadata": {
        "id": "yZcpQAoF4XQe"
      },
      "source": [
        "import pandas as pd\n",
        "import matplotlib.pyplot as plt\n",
        "\n",
        "df = pd.read_csv(\"/content/father_son.csv\")"
      ],
      "execution_count": 1,
      "outputs": []
    },
    {
      "cell_type": "markdown",
      "source": [
        "**Printing First 5 Records**"
      ],
      "metadata": {
        "id": "LgIMLbiMkNBr"
      }
    },
    {
      "cell_type": "code",
      "source": [
        "df.head()"
      ],
      "metadata": {
        "colab": {
          "base_uri": "https://localhost:8080/",
          "height": 206
        },
        "id": "96HNVFLMkX-d",
        "outputId": "a3fc9110-9940-445d-9c21-442d59ba94cf"
      },
      "execution_count": 2,
      "outputs": [
        {
          "output_type": "execute_result",
          "data": {
            "text/plain": [
              "   Father   Son\n",
              "0    65.0  59.8\n",
              "1    63.3  63.2\n",
              "2    65.0  63.3\n",
              "3    65.8  62.8\n",
              "4    61.1  64.3"
            ],
            "text/html": [
              "\n",
              "  <div id=\"df-8ec640fd-31b8-4d73-bf78-d7ec8f833f38\">\n",
              "    <div class=\"colab-df-container\">\n",
              "      <div>\n",
              "<style scoped>\n",
              "    .dataframe tbody tr th:only-of-type {\n",
              "        vertical-align: middle;\n",
              "    }\n",
              "\n",
              "    .dataframe tbody tr th {\n",
              "        vertical-align: top;\n",
              "    }\n",
              "\n",
              "    .dataframe thead th {\n",
              "        text-align: right;\n",
              "    }\n",
              "</style>\n",
              "<table border=\"1\" class=\"dataframe\">\n",
              "  <thead>\n",
              "    <tr style=\"text-align: right;\">\n",
              "      <th></th>\n",
              "      <th>Father</th>\n",
              "      <th>Son</th>\n",
              "    </tr>\n",
              "  </thead>\n",
              "  <tbody>\n",
              "    <tr>\n",
              "      <th>0</th>\n",
              "      <td>65.0</td>\n",
              "      <td>59.8</td>\n",
              "    </tr>\n",
              "    <tr>\n",
              "      <th>1</th>\n",
              "      <td>63.3</td>\n",
              "      <td>63.2</td>\n",
              "    </tr>\n",
              "    <tr>\n",
              "      <th>2</th>\n",
              "      <td>65.0</td>\n",
              "      <td>63.3</td>\n",
              "    </tr>\n",
              "    <tr>\n",
              "      <th>3</th>\n",
              "      <td>65.8</td>\n",
              "      <td>62.8</td>\n",
              "    </tr>\n",
              "    <tr>\n",
              "      <th>4</th>\n",
              "      <td>61.1</td>\n",
              "      <td>64.3</td>\n",
              "    </tr>\n",
              "  </tbody>\n",
              "</table>\n",
              "</div>\n",
              "      <button class=\"colab-df-convert\" onclick=\"convertToInteractive('df-8ec640fd-31b8-4d73-bf78-d7ec8f833f38')\"\n",
              "              title=\"Convert this dataframe to an interactive table.\"\n",
              "              style=\"display:none;\">\n",
              "        \n",
              "  <svg xmlns=\"http://www.w3.org/2000/svg\" height=\"24px\"viewBox=\"0 0 24 24\"\n",
              "       width=\"24px\">\n",
              "    <path d=\"M0 0h24v24H0V0z\" fill=\"none\"/>\n",
              "    <path d=\"M18.56 5.44l.94 2.06.94-2.06 2.06-.94-2.06-.94-.94-2.06-.94 2.06-2.06.94zm-11 1L8.5 8.5l.94-2.06 2.06-.94-2.06-.94L8.5 2.5l-.94 2.06-2.06.94zm10 10l.94 2.06.94-2.06 2.06-.94-2.06-.94-.94-2.06-.94 2.06-2.06.94z\"/><path d=\"M17.41 7.96l-1.37-1.37c-.4-.4-.92-.59-1.43-.59-.52 0-1.04.2-1.43.59L10.3 9.45l-7.72 7.72c-.78.78-.78 2.05 0 2.83L4 21.41c.39.39.9.59 1.41.59.51 0 1.02-.2 1.41-.59l7.78-7.78 2.81-2.81c.8-.78.8-2.07 0-2.86zM5.41 20L4 18.59l7.72-7.72 1.47 1.35L5.41 20z\"/>\n",
              "  </svg>\n",
              "      </button>\n",
              "      \n",
              "  <style>\n",
              "    .colab-df-container {\n",
              "      display:flex;\n",
              "      flex-wrap:wrap;\n",
              "      gap: 12px;\n",
              "    }\n",
              "\n",
              "    .colab-df-convert {\n",
              "      background-color: #E8F0FE;\n",
              "      border: none;\n",
              "      border-radius: 50%;\n",
              "      cursor: pointer;\n",
              "      display: none;\n",
              "      fill: #1967D2;\n",
              "      height: 32px;\n",
              "      padding: 0 0 0 0;\n",
              "      width: 32px;\n",
              "    }\n",
              "\n",
              "    .colab-df-convert:hover {\n",
              "      background-color: #E2EBFA;\n",
              "      box-shadow: 0px 1px 2px rgba(60, 64, 67, 0.3), 0px 1px 3px 1px rgba(60, 64, 67, 0.15);\n",
              "      fill: #174EA6;\n",
              "    }\n",
              "\n",
              "    [theme=dark] .colab-df-convert {\n",
              "      background-color: #3B4455;\n",
              "      fill: #D2E3FC;\n",
              "    }\n",
              "\n",
              "    [theme=dark] .colab-df-convert:hover {\n",
              "      background-color: #434B5C;\n",
              "      box-shadow: 0px 1px 3px 1px rgba(0, 0, 0, 0.15);\n",
              "      filter: drop-shadow(0px 1px 2px rgba(0, 0, 0, 0.3));\n",
              "      fill: #FFFFFF;\n",
              "    }\n",
              "  </style>\n",
              "\n",
              "      <script>\n",
              "        const buttonEl =\n",
              "          document.querySelector('#df-8ec640fd-31b8-4d73-bf78-d7ec8f833f38 button.colab-df-convert');\n",
              "        buttonEl.style.display =\n",
              "          google.colab.kernel.accessAllowed ? 'block' : 'none';\n",
              "\n",
              "        async function convertToInteractive(key) {\n",
              "          const element = document.querySelector('#df-8ec640fd-31b8-4d73-bf78-d7ec8f833f38');\n",
              "          const dataTable =\n",
              "            await google.colab.kernel.invokeFunction('convertToInteractive',\n",
              "                                                     [key], {});\n",
              "          if (!dataTable) return;\n",
              "\n",
              "          const docLinkHtml = 'Like what you see? Visit the ' +\n",
              "            '<a target=\"_blank\" href=https://colab.research.google.com/notebooks/data_table.ipynb>data table notebook</a>'\n",
              "            + ' to learn more about interactive tables.';\n",
              "          element.innerHTML = '';\n",
              "          dataTable['output_type'] = 'display_data';\n",
              "          await google.colab.output.renderOutput(dataTable, element);\n",
              "          const docLink = document.createElement('div');\n",
              "          docLink.innerHTML = docLinkHtml;\n",
              "          element.appendChild(docLink);\n",
              "        }\n",
              "      </script>\n",
              "    </div>\n",
              "  </div>\n",
              "  "
            ]
          },
          "metadata": {},
          "execution_count": 2
        }
      ]
    },
    {
      "cell_type": "markdown",
      "source": [
        "**Describe Dataset**"
      ],
      "metadata": {
        "id": "MAXVn_gwkaoa"
      }
    },
    {
      "cell_type": "code",
      "metadata": {
        "colab": {
          "base_uri": "https://localhost:8080/",
          "height": 300
        },
        "id": "IfnRuBEK7MC3",
        "outputId": "e480107c-77e7-4aa3-9120-fa7503d22af9"
      },
      "source": [
        "df.describe()"
      ],
      "execution_count": 3,
      "outputs": [
        {
          "output_type": "execute_result",
          "data": {
            "text/plain": [
              "            Father          Son\n",
              "count  1078.000000  1078.000000\n",
              "mean     67.686827    68.684230\n",
              "std       2.745827     2.816194\n",
              "min      59.000000    58.500000\n",
              "25%      65.800000    66.900000\n",
              "50%      67.800000    68.600000\n",
              "75%      69.600000    70.500000\n",
              "max      75.400000    78.400000"
            ],
            "text/html": [
              "\n",
              "  <div id=\"df-c3d569b8-c857-4ecc-8291-b07925650068\">\n",
              "    <div class=\"colab-df-container\">\n",
              "      <div>\n",
              "<style scoped>\n",
              "    .dataframe tbody tr th:only-of-type {\n",
              "        vertical-align: middle;\n",
              "    }\n",
              "\n",
              "    .dataframe tbody tr th {\n",
              "        vertical-align: top;\n",
              "    }\n",
              "\n",
              "    .dataframe thead th {\n",
              "        text-align: right;\n",
              "    }\n",
              "</style>\n",
              "<table border=\"1\" class=\"dataframe\">\n",
              "  <thead>\n",
              "    <tr style=\"text-align: right;\">\n",
              "      <th></th>\n",
              "      <th>Father</th>\n",
              "      <th>Son</th>\n",
              "    </tr>\n",
              "  </thead>\n",
              "  <tbody>\n",
              "    <tr>\n",
              "      <th>count</th>\n",
              "      <td>1078.000000</td>\n",
              "      <td>1078.000000</td>\n",
              "    </tr>\n",
              "    <tr>\n",
              "      <th>mean</th>\n",
              "      <td>67.686827</td>\n",
              "      <td>68.684230</td>\n",
              "    </tr>\n",
              "    <tr>\n",
              "      <th>std</th>\n",
              "      <td>2.745827</td>\n",
              "      <td>2.816194</td>\n",
              "    </tr>\n",
              "    <tr>\n",
              "      <th>min</th>\n",
              "      <td>59.000000</td>\n",
              "      <td>58.500000</td>\n",
              "    </tr>\n",
              "    <tr>\n",
              "      <th>25%</th>\n",
              "      <td>65.800000</td>\n",
              "      <td>66.900000</td>\n",
              "    </tr>\n",
              "    <tr>\n",
              "      <th>50%</th>\n",
              "      <td>67.800000</td>\n",
              "      <td>68.600000</td>\n",
              "    </tr>\n",
              "    <tr>\n",
              "      <th>75%</th>\n",
              "      <td>69.600000</td>\n",
              "      <td>70.500000</td>\n",
              "    </tr>\n",
              "    <tr>\n",
              "      <th>max</th>\n",
              "      <td>75.400000</td>\n",
              "      <td>78.400000</td>\n",
              "    </tr>\n",
              "  </tbody>\n",
              "</table>\n",
              "</div>\n",
              "      <button class=\"colab-df-convert\" onclick=\"convertToInteractive('df-c3d569b8-c857-4ecc-8291-b07925650068')\"\n",
              "              title=\"Convert this dataframe to an interactive table.\"\n",
              "              style=\"display:none;\">\n",
              "        \n",
              "  <svg xmlns=\"http://www.w3.org/2000/svg\" height=\"24px\"viewBox=\"0 0 24 24\"\n",
              "       width=\"24px\">\n",
              "    <path d=\"M0 0h24v24H0V0z\" fill=\"none\"/>\n",
              "    <path d=\"M18.56 5.44l.94 2.06.94-2.06 2.06-.94-2.06-.94-.94-2.06-.94 2.06-2.06.94zm-11 1L8.5 8.5l.94-2.06 2.06-.94-2.06-.94L8.5 2.5l-.94 2.06-2.06.94zm10 10l.94 2.06.94-2.06 2.06-.94-2.06-.94-.94-2.06-.94 2.06-2.06.94z\"/><path d=\"M17.41 7.96l-1.37-1.37c-.4-.4-.92-.59-1.43-.59-.52 0-1.04.2-1.43.59L10.3 9.45l-7.72 7.72c-.78.78-.78 2.05 0 2.83L4 21.41c.39.39.9.59 1.41.59.51 0 1.02-.2 1.41-.59l7.78-7.78 2.81-2.81c.8-.78.8-2.07 0-2.86zM5.41 20L4 18.59l7.72-7.72 1.47 1.35L5.41 20z\"/>\n",
              "  </svg>\n",
              "      </button>\n",
              "      \n",
              "  <style>\n",
              "    .colab-df-container {\n",
              "      display:flex;\n",
              "      flex-wrap:wrap;\n",
              "      gap: 12px;\n",
              "    }\n",
              "\n",
              "    .colab-df-convert {\n",
              "      background-color: #E8F0FE;\n",
              "      border: none;\n",
              "      border-radius: 50%;\n",
              "      cursor: pointer;\n",
              "      display: none;\n",
              "      fill: #1967D2;\n",
              "      height: 32px;\n",
              "      padding: 0 0 0 0;\n",
              "      width: 32px;\n",
              "    }\n",
              "\n",
              "    .colab-df-convert:hover {\n",
              "      background-color: #E2EBFA;\n",
              "      box-shadow: 0px 1px 2px rgba(60, 64, 67, 0.3), 0px 1px 3px 1px rgba(60, 64, 67, 0.15);\n",
              "      fill: #174EA6;\n",
              "    }\n",
              "\n",
              "    [theme=dark] .colab-df-convert {\n",
              "      background-color: #3B4455;\n",
              "      fill: #D2E3FC;\n",
              "    }\n",
              "\n",
              "    [theme=dark] .colab-df-convert:hover {\n",
              "      background-color: #434B5C;\n",
              "      box-shadow: 0px 1px 3px 1px rgba(0, 0, 0, 0.15);\n",
              "      filter: drop-shadow(0px 1px 2px rgba(0, 0, 0, 0.3));\n",
              "      fill: #FFFFFF;\n",
              "    }\n",
              "  </style>\n",
              "\n",
              "      <script>\n",
              "        const buttonEl =\n",
              "          document.querySelector('#df-c3d569b8-c857-4ecc-8291-b07925650068 button.colab-df-convert');\n",
              "        buttonEl.style.display =\n",
              "          google.colab.kernel.accessAllowed ? 'block' : 'none';\n",
              "\n",
              "        async function convertToInteractive(key) {\n",
              "          const element = document.querySelector('#df-c3d569b8-c857-4ecc-8291-b07925650068');\n",
              "          const dataTable =\n",
              "            await google.colab.kernel.invokeFunction('convertToInteractive',\n",
              "                                                     [key], {});\n",
              "          if (!dataTable) return;\n",
              "\n",
              "          const docLinkHtml = 'Like what you see? Visit the ' +\n",
              "            '<a target=\"_blank\" href=https://colab.research.google.com/notebooks/data_table.ipynb>data table notebook</a>'\n",
              "            + ' to learn more about interactive tables.';\n",
              "          element.innerHTML = '';\n",
              "          dataTable['output_type'] = 'display_data';\n",
              "          await google.colab.output.renderOutput(dataTable, element);\n",
              "          const docLink = document.createElement('div');\n",
              "          docLink.innerHTML = docLinkHtml;\n",
              "          element.appendChild(docLink);\n",
              "        }\n",
              "      </script>\n",
              "    </div>\n",
              "  </div>\n",
              "  "
            ]
          },
          "metadata": {},
          "execution_count": 3
        }
      ]
    },
    {
      "cell_type": "markdown",
      "source": [
        "Show Total No. of Rows and Columns in Dataset "
      ],
      "metadata": {
        "id": "-8bg75lgkf5G"
      }
    },
    {
      "cell_type": "code",
      "metadata": {
        "colab": {
          "base_uri": "https://localhost:8080/"
        },
        "id": "ds-1V3jaDK32",
        "outputId": "85079fe9-4cb7-4fea-b52f-5a742ccd5be0"
      },
      "source": [
        "df.shape"
      ],
      "execution_count": 4,
      "outputs": [
        {
          "output_type": "execute_result",
          "data": {
            "text/plain": [
              "(1078, 2)"
            ]
          },
          "metadata": {},
          "execution_count": 4
        }
      ]
    },
    {
      "cell_type": "markdown",
      "source": [
        "**Splitting Dataset into Training and Testing**"
      ],
      "metadata": {
        "id": "6DdTfMr7kraW"
      }
    },
    {
      "cell_type": "code",
      "metadata": {
        "id": "AZE_BxOt7UGo"
      },
      "source": [
        "from sklearn.model_selection import train_test_split"
      ],
      "execution_count": 5,
      "outputs": []
    },
    {
      "cell_type": "markdown",
      "source": [
        "**Separating Feature and Target Variable**"
      ],
      "metadata": {
        "id": "z60QYC9llFIr"
      }
    },
    {
      "cell_type": "code",
      "source": [
        "X = df.drop(\"Son\", axis=1)\n",
        "y = df[\"Son\"]"
      ],
      "metadata": {
        "id": "AD66UWPako-P"
      },
      "execution_count": 6,
      "outputs": []
    },
    {
      "cell_type": "code",
      "metadata": {
        "id": "Gkn88kGZ8VrD"
      },
      "source": [
        "X_train, X_test, y_train, y_test = train_test_split(X, y, test_size = 0.2, random_state=112)"
      ],
      "execution_count": 7,
      "outputs": []
    },
    {
      "cell_type": "code",
      "metadata": {
        "colab": {
          "base_uri": "https://localhost:8080/",
          "height": 203
        },
        "id": "9KtSSTTb8t91",
        "outputId": "cc61ed1e-02af-4a68-c7e3-f0d504a45603"
      },
      "source": [
        "X_train.head()"
      ],
      "execution_count": null,
      "outputs": [
        {
          "output_type": "execute_result",
          "data": {
            "text/html": [
              "<div>\n",
              "<style scoped>\n",
              "    .dataframe tbody tr th:only-of-type {\n",
              "        vertical-align: middle;\n",
              "    }\n",
              "\n",
              "    .dataframe tbody tr th {\n",
              "        vertical-align: top;\n",
              "    }\n",
              "\n",
              "    .dataframe thead th {\n",
              "        text-align: right;\n",
              "    }\n",
              "</style>\n",
              "<table border=\"1\" class=\"dataframe\">\n",
              "  <thead>\n",
              "    <tr style=\"text-align: right;\">\n",
              "      <th></th>\n",
              "      <th>Father</th>\n",
              "    </tr>\n",
              "  </thead>\n",
              "  <tbody>\n",
              "    <tr>\n",
              "      <th>136</th>\n",
              "      <td>65.7</td>\n",
              "    </tr>\n",
              "    <tr>\n",
              "      <th>1026</th>\n",
              "      <td>67.6</td>\n",
              "    </tr>\n",
              "    <tr>\n",
              "      <th>988</th>\n",
              "      <td>68.8</td>\n",
              "    </tr>\n",
              "    <tr>\n",
              "      <th>218</th>\n",
              "      <td>65.6</td>\n",
              "    </tr>\n",
              "    <tr>\n",
              "      <th>250</th>\n",
              "      <td>68.3</td>\n",
              "    </tr>\n",
              "  </tbody>\n",
              "</table>\n",
              "</div>"
            ],
            "text/plain": [
              "      Father\n",
              "136     65.7\n",
              "1026    67.6\n",
              "988     68.8\n",
              "218     65.6\n",
              "250     68.3"
            ]
          },
          "metadata": {},
          "execution_count": 36
        }
      ]
    },
    {
      "cell_type": "markdown",
      "source": [
        "**Train the Model**"
      ],
      "metadata": {
        "id": "EkiobsmTlTQB"
      }
    },
    {
      "cell_type": "code",
      "metadata": {
        "id": "IzBC2KT389SN"
      },
      "source": [
        "from sklearn.linear_model import LinearRegression"
      ],
      "execution_count": 8,
      "outputs": []
    },
    {
      "cell_type": "code",
      "metadata": {
        "id": "FAiLrUij9Snm"
      },
      "source": [
        "my_model = LinearRegression()\n",
        "result = my_model.fit(X_train, y_train)"
      ],
      "execution_count": 9,
      "outputs": []
    },
    {
      "cell_type": "markdown",
      "source": [
        "**Test the Model**"
      ],
      "metadata": {
        "id": "YSz0PiKmlaa_"
      }
    },
    {
      "cell_type": "code",
      "metadata": {
        "colab": {
          "base_uri": "https://localhost:8080/"
        },
        "id": "1PXkMulr9WNX",
        "outputId": "78ae3004-d789-4119-e2a0-6b61f142d64d"
      },
      "source": [
        "predictions = result.predict(X_test)\n",
        "predictions"
      ],
      "execution_count": 10,
      "outputs": [
        {
          "output_type": "execute_result",
          "data": {
            "text/plain": [
              "array([66.32689507, 70.0337033 , 66.87056028, 67.71077014, 71.31873015,\n",
              "       67.31537727, 68.05673891, 70.23139974, 65.38783699, 67.16710494,\n",
              "       68.94637289, 67.95789069, 68.05673891, 65.28898877, 65.04186822,\n",
              "       67.36480138, 68.60040412, 68.40270768, 68.89694878, 68.35328357,\n",
              "       69.78658275, 70.28082385, 68.20501124, 68.05673891, 68.30385946,\n",
              "       68.60040412, 67.80961836, 67.11768083, 70.08312741, 67.66134603,\n",
              "       66.03035041, 68.15558713, 68.89694878, 67.5130737 , 66.22804685,\n",
              "       67.80961836, 69.04522111, 68.20501124, 70.37967207, 69.73715864,\n",
              "       68.40270768, 69.58888631, 69.44061398, 68.64982823, 69.49003809,\n",
              "       68.35328357, 67.31537727, 69.14406933, 69.88543097, 67.71077014,\n",
              "       68.84752467, 69.14406933, 68.64982823, 68.30385946, 70.57736851,\n",
              "       68.69925234, 67.5130737 , 69.09464522, 69.68773453, 68.25443535,\n",
              "       69.09464522, 69.88543097, 68.94637289, 70.97276139, 70.5279444 ,\n",
              "       69.19349344, 67.56249781, 72.45548468, 67.61192192, 67.95789069,\n",
              "       67.85904247, 66.87056028, 70.92333728, 67.61192192, 71.12103371,\n",
              "       67.80961836, 70.97276139, 69.83600686, 70.97276139, 66.4751674 ,\n",
              "       67.5130737 , 68.89694878, 68.64982823, 69.24291754, 66.22804685,\n",
              "       67.26595316, 69.09464522, 66.62343973, 68.60040412, 67.76019425,\n",
              "       66.9694085 , 70.97276139, 67.71077014, 70.42909618, 68.74867645,\n",
              "       66.9694085 , 67.31537727, 67.61192192, 69.24291754, 68.94637289,\n",
              "       69.63831042, 68.05673891, 69.44061398, 68.45213179, 68.20501124,\n",
              "       68.10616302, 69.19349344, 68.35328357, 67.80961836, 68.69925234,\n",
              "       66.87056028, 68.0073148 , 68.84752467, 70.13255152, 68.05673891,\n",
              "       70.08312741, 65.88207808, 69.39118987, 68.20501124, 68.15558713,\n",
              "       68.74867645, 68.5015559 , 67.76019425, 66.77171206, 67.21652905,\n",
              "       69.5394622 , 69.29234165, 67.90846658, 71.17045782, 67.95789069,\n",
              "       68.995797  , 68.55098001, 67.71077014, 70.62679262, 68.5015559 ,\n",
              "       70.67621673, 70.18197563, 68.40270768, 69.73715864, 68.74867645,\n",
              "       67.5130737 , 68.64982823, 69.63831042, 67.56249781, 69.98427919,\n",
              "       67.5130737 , 68.69925234, 68.5015559 , 68.05673891, 70.72564084,\n",
              "       69.5394622 , 66.87056028, 69.14406933, 69.83600686, 71.0716096 ,\n",
              "       67.71077014, 68.60040412, 67.71077014, 68.79810056, 68.0073148 ,\n",
              "       67.66134603, 68.20501124, 68.20501124, 66.77171206, 71.17045782,\n",
              "       67.16710494, 71.0716096 , 69.04522111, 70.42909618, 67.76019425,\n",
              "       67.06825672, 69.34176576, 67.61192192, 68.74867645, 69.73715864,\n",
              "       70.47852029, 67.01883261, 68.25443535, 69.88543097, 68.25443535,\n",
              "       68.15558713, 68.69925234, 66.9694085 , 67.06825672, 67.46364959,\n",
              "       70.5279444 , 67.21652905, 66.32689507, 68.60040412, 69.83600686,\n",
              "       70.18197563, 71.02218549, 66.62343973, 65.73380575, 70.33024796,\n",
              "       68.20501124, 67.85904247, 70.97276139, 68.10616302, 67.95789069,\n",
              "       70.33024796, 69.83600686, 70.23139974, 68.74867645, 69.78658275,\n",
              "       67.71077014, 66.03035041, 70.13255152, 69.49003809, 67.90846658,\n",
              "       68.45213179, 67.5130737 , 66.67286384, 68.60040412, 69.78658275,\n",
              "       67.46364959])"
            ]
          },
          "metadata": {},
          "execution_count": 10
        }
      ]
    },
    {
      "cell_type": "markdown",
      "source": [
        "**Plot the Line**"
      ],
      "metadata": {
        "id": "AqBXf6cllg8H"
      }
    },
    {
      "cell_type": "code",
      "metadata": {
        "colab": {
          "base_uri": "https://localhost:8080/",
          "height": 265
        },
        "id": "JAbat5Zr9jLy",
        "outputId": "0962523e-0b6b-453c-a1f8-2050ba587765"
      },
      "source": [
        "plt.scatter(X_train, y_train, color = \"c\")\n",
        "plt.plot(X_test, predictions, color = \"k\")\n",
        "plt.show()"
      ],
      "execution_count": 11,
      "outputs": [
        {
          "output_type": "display_data",
          "data": {
            "text/plain": [
              "<Figure size 432x288 with 1 Axes>"
            ],
            "image/png": "[encoded data removed]"
          },
          "metadata": {
            "needs_background": "light"
          }
        }
      ]
    },
    {
      "cell_type": "markdown",
      "source": [
        "**Measuring Accuracy by using r^2 of regression**"
      ],
      "metadata": {
        "id": "01iQNjd8l6mW"
      }
    },
    {
      "cell_type": "code",
      "metadata": {
        "colab": {
          "base_uri": "https://localhost:8080/"
        },
        "id": "BEVQkqZW9_kw",
        "outputId": "3a25db61-8faa-46d2-de7c-3a6d4b1370bb"
      },
      "source": [
        "from sklearn.metrics import r2_score\n",
        "\n",
        "r2_score(y_test,predictions)"
      ],
      "execution_count": 12,
      "outputs": [
        {
          "output_type": "execute_result",
          "data": {
            "text/plain": [
              "0.3214383183490591"
            ]
          },
          "metadata": {},
          "execution_count": 12
        }
      ]
    },
    {
      "cell_type": "markdown",
      "source": [
        "**Deploy the Model**"
      ],
      "metadata": {
        "id": "61EKxMJyl_74"
      }
    },
    {
      "cell_type": "code",
      "metadata": {
        "colab": {
          "base_uri": "https://localhost:8080/"
        },
        "id": "lcIXE0Cj_fPN",
        "outputId": "e459cb66-fd32-4e84-dc19-74779b0db870"
      },
      "source": [
        "pred_new=result.predict([[63]])\n",
        "pred_new"
      ],
      "execution_count": 13,
      "outputs": [
        {
          "output_type": "stream",
          "name": "stderr",
          "text": [
            "/usr/local/lib/python3.7/dist-packages/sklearn/base.py:451: UserWarning: X does not have valid feature names, but LinearRegression was fitted with feature names\n",
            "  \"X does not have valid feature names, but\"\n"
          ]
        },
        {
          "output_type": "execute_result",
          "data": {
            "text/plain": [
              "array([66.32689507])"
            ]
          },
          "metadata": {},
          "execution_count": 13
        }
      ]
    },
    {
      "cell_type": "markdown",
      "source": [
        "**New Predictions**"
      ],
      "metadata": {
        "id": "aBi7QC8pmF_i"
      }
    },
    {
      "cell_type": "code",
      "metadata": {
        "colab": {
          "base_uri": "https://localhost:8080/"
        },
        "id": "Xo6Jdbg5_-dU",
        "outputId": "4e415cb1-5c5d-4253-ee8a-c4a6d7ff77f5"
      },
      "source": [
        "pred_new=result.predict([[55]])\n",
        "pred_new"
      ],
      "execution_count": 14,
      "outputs": [
        {
          "output_type": "stream",
          "name": "stderr",
          "text": [
            "/usr/local/lib/python3.7/dist-packages/sklearn/base.py:451: UserWarning: X does not have valid feature names, but LinearRegression was fitted with feature names\n",
            "  \"X does not have valid feature names, but\"\n"
          ]
        },
        {
          "output_type": "execute_result",
          "data": {
            "text/plain": [
              "array([62.37296629])"
            ]
          },
          "metadata": {},
          "execution_count": 14
        }
      ]
    },
    {
      "cell_type": "code",
      "metadata": {
        "colab": {
          "base_uri": "https://localhost:8080/"
        },
        "id": "2o0TxbZEAR-V",
        "outputId": "4bede23e-d8ac-433c-e2da-f0b7b7794ed7"
      },
      "source": [
        "pred_new=result.predict([[71.3]])\n",
        "pred_new"
      ],
      "execution_count": 15,
      "outputs": [
        {
          "output_type": "stream",
          "name": "stderr",
          "text": [
            "/usr/local/lib/python3.7/dist-packages/sklearn/base.py:451: UserWarning: X does not have valid feature names, but LinearRegression was fitted with feature names\n",
            "  \"X does not have valid feature names, but\"\n"
          ]
        },
        {
          "output_type": "execute_result",
          "data": {
            "text/plain": [
              "array([70.42909618])"
            ]
          },
          "metadata": {},
          "execution_count": 15
        }
      ]
    },
    {
      "cell_type": "code",
      "metadata": {
        "colab": {
          "base_uri": "https://localhost:8080/"
        },
        "id": "1-njsHEJAZAJ",
        "outputId": "77162eb9-d9be-4da1-aa3e-afe6d02b0a43"
      },
      "source": [
        "pred_new=result.predict([[95]])\n",
        "pred_new"
      ],
      "execution_count": 16,
      "outputs": [
        {
          "output_type": "stream",
          "name": "stderr",
          "text": [
            "/usr/local/lib/python3.7/dist-packages/sklearn/base.py:451: UserWarning: X does not have valid feature names, but LinearRegression was fitted with feature names\n",
            "  \"X does not have valid feature names, but\"\n"
          ]
        },
        {
          "output_type": "execute_result",
          "data": {
            "text/plain": [
              "array([82.14261018])"
            ]
          },
          "metadata": {},
          "execution_count": 16
        }
      ]
    }
  ]
}