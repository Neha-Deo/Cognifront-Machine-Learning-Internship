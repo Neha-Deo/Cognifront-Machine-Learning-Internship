{
  "nbformat": 4,
  "nbformat_minor": 0,
  "metadata": {
    "colab": {
      "name": "kmeans_driver_data.ipynb",
      "provenance": [],
      "collapsed_sections": []
    },
    "kernelspec": {
      "name": "python3",
      "display_name": "Python 3"
    },
    "language_info": {
      "name": "python"
    }
  },
  "cells": [
    {
      "cell_type": "markdown",
      "metadata": {
        "id": "n-VczJkGYhSU"
      },
      "source": [
        "**Company : Cognifront**\n",
        "\n",
        "---\n",
        "\n",
        "**Machine Learning Intern**\n",
        "\n",
        "---\n",
        "\n",
        "**Name : Neha Deo**\n",
        "\n",
        "---\n",
        "\n",
        "**Assignment : Solve the K-Means Algorithm using the given dataset driver_data.csv** \n",
        "\n",
        "---\n",
        "\n",
        "**Objective : As this is the Clustering Algorithm it does not contain target variable. You have to form the clusters using K-Means Algorithm.\n",
        "When the data is partitioned into clusters and you get additional new column convert that dataframe to new csv.**\n",
        "\n",
        "---"
      ]
    },
    {
      "cell_type": "markdown",
      "metadata": {
        "id": "5dUS_QAja759"
      },
      "source": [
        "**1] Importing Library and Acquire the Data**"
      ]
    },
    {
      "cell_type": "code",
      "metadata": {
        "id": "k7bgYg6QHhZX"
      },
      "source": [
        "import numpy as np\n",
        "import pandas as pd\n",
        "import matplotlib.pyplot as plt\n",
        "%matplotlib inline\n",
        "\n",
        "df = pd.read_csv(\"/content/driver_data.csv\")"
      ],
      "execution_count": null,
      "outputs": []
    },
    {
      "cell_type": "markdown",
      "metadata": {
        "id": "rpUlZLXDb3H8"
      },
      "source": [
        "**Printing First 5 Records**"
      ]
    },
    {
      "cell_type": "code",
      "metadata": {
        "id": "uT5RcBM7cDTC",
        "colab": {
          "base_uri": "https://localhost:8080/",
          "height": 206
        },
        "outputId": "0e4935a9-f0c4-476f-ee71-d45a658e09f9"
      },
      "source": [
        "df.head()"
      ],
      "execution_count": null,
      "outputs": [
        {
          "output_type": "execute_result",
          "data": {
            "text/html": [
              "<div>\n",
              "<style scoped>\n",
              "    .dataframe tbody tr th:only-of-type {\n",
              "        vertical-align: middle;\n",
              "    }\n",
              "\n",
              "    .dataframe tbody tr th {\n",
              "        vertical-align: top;\n",
              "    }\n",
              "\n",
              "    .dataframe thead th {\n",
              "        text-align: right;\n",
              "    }\n",
              "</style>\n",
              "<table border=\"1\" class=\"dataframe\">\n",
              "  <thead>\n",
              "    <tr style=\"text-align: right;\">\n",
              "      <th></th>\n",
              "      <th>Distance_Feature</th>\n",
              "      <th>Speeding_Feature</th>\n",
              "    </tr>\n",
              "  </thead>\n",
              "  <tbody>\n",
              "    <tr>\n",
              "      <th>0</th>\n",
              "      <td>71.24</td>\n",
              "      <td>28</td>\n",
              "    </tr>\n",
              "    <tr>\n",
              "      <th>1</th>\n",
              "      <td>52.53</td>\n",
              "      <td>25</td>\n",
              "    </tr>\n",
              "    <tr>\n",
              "      <th>2</th>\n",
              "      <td>64.54</td>\n",
              "      <td>27</td>\n",
              "    </tr>\n",
              "    <tr>\n",
              "      <th>3</th>\n",
              "      <td>55.69</td>\n",
              "      <td>22</td>\n",
              "    </tr>\n",
              "    <tr>\n",
              "      <th>4</th>\n",
              "      <td>54.58</td>\n",
              "      <td>25</td>\n",
              "    </tr>\n",
              "  </tbody>\n",
              "</table>\n",
              "</div>"
            ],
            "text/plain": [
              "   Distance_Feature  Speeding_Feature\n",
              "0             71.24                28\n",
              "1             52.53                25\n",
              "2             64.54                27\n",
              "3             55.69                22\n",
              "4             54.58                25"
            ]
          },
          "metadata": {},
          "execution_count": 3
        }
      ]
    },
    {
      "cell_type": "markdown",
      "metadata": {
        "id": "exx5Rf9ccE90"
      },
      "source": [
        "**Printing Last 5 Records**"
      ]
    },
    {
      "cell_type": "code",
      "metadata": {
        "id": "GDHl4SgbcIuD",
        "colab": {
          "base_uri": "https://localhost:8080/",
          "height": 206
        },
        "outputId": "b16d1f11-48df-4f39-8c8c-aef1dcc866f8"
      },
      "source": [
        "df.tail()"
      ],
      "execution_count": null,
      "outputs": [
        {
          "output_type": "execute_result",
          "data": {
            "text/html": [
              "<div>\n",
              "<style scoped>\n",
              "    .dataframe tbody tr th:only-of-type {\n",
              "        vertical-align: middle;\n",
              "    }\n",
              "\n",
              "    .dataframe tbody tr th {\n",
              "        vertical-align: top;\n",
              "    }\n",
              "\n",
              "    .dataframe thead th {\n",
              "        text-align: right;\n",
              "    }\n",
              "</style>\n",
              "<table border=\"1\" class=\"dataframe\">\n",
              "  <thead>\n",
              "    <tr style=\"text-align: right;\">\n",
              "      <th></th>\n",
              "      <th>Distance_Feature</th>\n",
              "      <th>Speeding_Feature</th>\n",
              "    </tr>\n",
              "  </thead>\n",
              "  <tbody>\n",
              "    <tr>\n",
              "      <th>3995</th>\n",
              "      <td>160.04</td>\n",
              "      <td>10</td>\n",
              "    </tr>\n",
              "    <tr>\n",
              "      <th>3996</th>\n",
              "      <td>176.17</td>\n",
              "      <td>5</td>\n",
              "    </tr>\n",
              "    <tr>\n",
              "      <th>3997</th>\n",
              "      <td>170.91</td>\n",
              "      <td>12</td>\n",
              "    </tr>\n",
              "    <tr>\n",
              "      <th>3998</th>\n",
              "      <td>176.14</td>\n",
              "      <td>5</td>\n",
              "    </tr>\n",
              "    <tr>\n",
              "      <th>3999</th>\n",
              "      <td>168.03</td>\n",
              "      <td>9</td>\n",
              "    </tr>\n",
              "  </tbody>\n",
              "</table>\n",
              "</div>"
            ],
            "text/plain": [
              "      Distance_Feature  Speeding_Feature\n",
              "3995            160.04                10\n",
              "3996            176.17                 5\n",
              "3997            170.91                12\n",
              "3998            176.14                 5\n",
              "3999            168.03                 9"
            ]
          },
          "metadata": {},
          "execution_count": 4
        }
      ]
    },
    {
      "cell_type": "markdown",
      "metadata": {
        "id": "MnOWuDZOcKtK"
      },
      "source": [
        "**2] Preprocess the Data**"
      ]
    },
    {
      "cell_type": "code",
      "metadata": {
        "id": "IBldS9_qH3AZ"
      },
      "source": [
        "# Applying Standard Scaler\n",
        "\n",
        "from sklearn.preprocessing import StandardScaler\n",
        "sc = StandardScaler()\n",
        "df_scaled = sc.fit_transform(df)"
      ],
      "execution_count": null,
      "outputs": []
    },
    {
      "cell_type": "code",
      "metadata": {
        "colab": {
          "base_uri": "https://localhost:8080/"
        },
        "id": "qul-TaJUIfiQ",
        "outputId": "c8f148b8-6168-4146-dd47-44907cd35eb7"
      },
      "source": [
        "df_scaled[:5,]"
      ],
      "execution_count": null,
      "outputs": [
        {
          "output_type": "execute_result",
          "data": {
            "text/plain": [
              "array([[-0.0898104 ,  1.26061251],\n",
              "       [-0.43977285,  1.04174351],\n",
              "       [-0.215131  ,  1.18765617],\n",
              "       [-0.38066642,  0.8228745 ],\n",
              "       [-0.40142849,  1.04174351]])"
            ]
          },
          "metadata": {},
          "execution_count": 6
        }
      ]
    },
    {
      "cell_type": "markdown",
      "metadata": {
        "id": "9WlkPNM6cmSq"
      },
      "source": [
        "**3] Train the Model**"
      ]
    },
    {
      "cell_type": "code",
      "metadata": {
        "id": "gjfAqaiuIkgN"
      },
      "source": [
        "from sklearn.cluster import KMeans\n",
        "ssq = []\n",
        "for K in range(1,11):\n",
        "  my_model = KMeans(n_clusters=K, random_state=123)\n",
        "  result = my_model.fit(df_scaled)\n",
        "  ssq.append(result.inertia_)"
      ],
      "execution_count": null,
      "outputs": []
    },
    {
      "cell_type": "markdown",
      "metadata": {
        "id": "2UOGEck1dqNO"
      },
      "source": [
        "**Plotting Scree Plot using Matplotlib**"
      ]
    },
    {
      "cell_type": "code",
      "metadata": {
        "colab": {
          "base_uri": "https://localhost:8080/",
          "height": 295
        },
        "id": "qVRxhfyNJFX8",
        "outputId": "e39a3271-e03b-47b9-d6b3-4f305b28a060"
      },
      "source": [
        "plt.plot(range(1,11), ssq, marker='o')\n",
        "plt.xlabel(\"Number of clusters\")\n",
        "plt.ylabel(\"Within-cluster SSQ\")\n",
        "plt.title(\"Scree Plot\")\n",
        "plt.plot([4]*3000, range(1,3001), \":\")\n",
        "plt.text(4.1, 3000, \"optimal number of clusters = 4\")\n",
        "plt.show()"
      ],
      "execution_count": null,
      "outputs": [
        {
          "output_type": "display_data",
          "data": {
            "image/png": "[encoded data removed]",
            "text/plain": [
              "<Figure size 432x288 with 1 Axes>"
            ]
          },
          "metadata": {
            "needs_background": "light"
          }
        }
      ]
    },
    {
      "cell_type": "markdown",
      "metadata": {
        "id": "-ffGBi3ed2Fw"
      },
      "source": [
        "**Again, Fitting K-Means Model with K=4**"
      ]
    },
    {
      "cell_type": "code",
      "metadata": {
        "colab": {
          "base_uri": "https://localhost:8080/"
        },
        "id": "lF5bBgwTJG8a",
        "outputId": "fa7a9274-e0e6-4e80-8f99-679cfb792f45"
      },
      "source": [
        "my_model = KMeans(n_clusters=4, random_state=163)\n",
        "result = my_model.fit(df_scaled)\n",
        "result.labels_"
      ],
      "execution_count": null,
      "outputs": [
        {
          "output_type": "execute_result",
          "data": {
            "text/plain": [
              "array([2, 2, 2, ..., 1, 1, 1], dtype=int32)"
            ]
          },
          "metadata": {},
          "execution_count": 9
        }
      ]
    },
    {
      "cell_type": "markdown",
      "metadata": {
        "id": "ibA_aEIbd_AS"
      },
      "source": [
        "**4] Test the Model**"
      ]
    },
    {
      "cell_type": "code",
      "metadata": {
        "colab": {
          "base_uri": "https://localhost:8080/"
        },
        "id": "Md3o-zWrLOtF",
        "outputId": "fb31f417-d147-456f-ee7b-1f05be6b5647"
      },
      "source": [
        "predictions = result.predict(df_scaled)\n",
        "predictions[:5]"
      ],
      "execution_count": null,
      "outputs": [
        {
          "output_type": "execute_result",
          "data": {
            "text/plain": [
              "array([2, 2, 2, 2, 2], dtype=int32)"
            ]
          },
          "metadata": {},
          "execution_count": 10
        }
      ]
    },
    {
      "cell_type": "markdown",
      "metadata": {
        "id": "DyFwMZyzeIg_"
      },
      "source": [
        "**Plotting data partitioned into Clusters**"
      ]
    },
    {
      "cell_type": "code",
      "metadata": {
        "colab": {
          "base_uri": "https://localhost:8080/",
          "height": 295
        },
        "id": "eygGB-q3MTW3",
        "outputId": "0f956af0-f8ed-4799-9ac4-3cf73741b7f0"
      },
      "source": [
        "plt.scatter(df_scaled[predictions==0,0], df_scaled[predictions==0, 1], s=50, c='lightgreen', marker='s', \n",
        "            edgecolors='black', label='cluster 1')\n",
        "\n",
        "plt.scatter(df_scaled[predictions==1,0], df_scaled[predictions==1, 1], s=50, c='orange', marker='o', \n",
        "            edgecolors='black', label='cluster 2')\n",
        "\n",
        "plt.scatter(df_scaled[predictions==2,0], df_scaled[predictions==2, 1], s=50, c='lightblue', marker='v', \n",
        "            edgecolors='black', label='cluster 3')\n",
        "\n",
        "plt.scatter(df_scaled[predictions==3,0], df_scaled[predictions==3, 1], s=50, c='yellow', marker='s', \n",
        "            edgecolors='black', label='cluster 4')\n",
        "\n",
        "plt.scatter(result.cluster_centers_[:,0], result.cluster_centers_[:,1], s=250, c='red', marker='*', \n",
        "            edgecolors='black', label='centroids')\n",
        "\n",
        "plt.legend(scatterpoints=1)\n",
        "plt.xlabel(\"Driving Distance\")\n",
        "plt.ylabel(\"Driving Speed\")\n",
        "plt.title(\"Clustering Output\")\n",
        "plt.show()"
      ],
      "execution_count": null,
      "outputs": [
        {
          "output_type": "display_data",
          "data": {
            "image/png": "[encoded data removed]",
            "text/plain": [
              "<Figure size 432x288 with 1 Axes>"
            ]
          },
          "metadata": {
            "needs_background": "light"
          }
        }
      ]
    },
    {
      "cell_type": "code",
      "metadata": {
        "id": "Qe-GFNP9PJaa"
      },
      "source": [
        "# Re-labelling the Predictions\n",
        "\n",
        "predictions_relabelled = np.where(predictions==0, \"A\", \n",
        "                         np.where(predictions==1, \"B\", \n",
        "                         np.where(predictions==2,\"C\",\"D\")))\n",
        "\n",
        "df['category'] = pd.Series(predictions_relabelled, index=df.index)\n",
        "\n",
        "df.index.name = \"Number\""
      ],
      "execution_count": null,
      "outputs": []
    },
    {
      "cell_type": "markdown",
      "metadata": {
        "id": "jK2f9lLnfbbO"
      },
      "source": [
        "**Printing First 5 Records**"
      ]
    },
    {
      "cell_type": "code",
      "metadata": {
        "colab": {
          "base_uri": "https://localhost:8080/",
          "height": 238
        },
        "id": "Pt4XbpL9QFlf",
        "outputId": "f3f2fb43-672b-43a8-db5c-3cf0485e6c8e"
      },
      "source": [
        "df.head()"
      ],
      "execution_count": null,
      "outputs": [
        {
          "output_type": "execute_result",
          "data": {
            "text/html": [
              "<div>\n",
              "<style scoped>\n",
              "    .dataframe tbody tr th:only-of-type {\n",
              "        vertical-align: middle;\n",
              "    }\n",
              "\n",
              "    .dataframe tbody tr th {\n",
              "        vertical-align: top;\n",
              "    }\n",
              "\n",
              "    .dataframe thead th {\n",
              "        text-align: right;\n",
              "    }\n",
              "</style>\n",
              "<table border=\"1\" class=\"dataframe\">\n",
              "  <thead>\n",
              "    <tr style=\"text-align: right;\">\n",
              "      <th></th>\n",
              "      <th>Distance_Feature</th>\n",
              "      <th>Speeding_Feature</th>\n",
              "      <th>category</th>\n",
              "    </tr>\n",
              "    <tr>\n",
              "      <th>Number</th>\n",
              "      <th></th>\n",
              "      <th></th>\n",
              "      <th></th>\n",
              "    </tr>\n",
              "  </thead>\n",
              "  <tbody>\n",
              "    <tr>\n",
              "      <th>0</th>\n",
              "      <td>71.24</td>\n",
              "      <td>28</td>\n",
              "      <td>C</td>\n",
              "    </tr>\n",
              "    <tr>\n",
              "      <th>1</th>\n",
              "      <td>52.53</td>\n",
              "      <td>25</td>\n",
              "      <td>C</td>\n",
              "    </tr>\n",
              "    <tr>\n",
              "      <th>2</th>\n",
              "      <td>64.54</td>\n",
              "      <td>27</td>\n",
              "      <td>C</td>\n",
              "    </tr>\n",
              "    <tr>\n",
              "      <th>3</th>\n",
              "      <td>55.69</td>\n",
              "      <td>22</td>\n",
              "      <td>C</td>\n",
              "    </tr>\n",
              "    <tr>\n",
              "      <th>4</th>\n",
              "      <td>54.58</td>\n",
              "      <td>25</td>\n",
              "      <td>C</td>\n",
              "    </tr>\n",
              "  </tbody>\n",
              "</table>\n",
              "</div>"
            ],
            "text/plain": [
              "        Distance_Feature  Speeding_Feature category\n",
              "Number                                             \n",
              "0                  71.24                28        C\n",
              "1                  52.53                25        C\n",
              "2                  64.54                27        C\n",
              "3                  55.69                22        C\n",
              "4                  54.58                25        C"
            ]
          },
          "metadata": {},
          "execution_count": 13
        }
      ]
    },
    {
      "cell_type": "markdown",
      "metadata": {
        "id": "YsNXplPujp8g"
      },
      "source": [
        "**Printing Last 5 Records**"
      ]
    },
    {
      "cell_type": "code",
      "metadata": {
        "colab": {
          "base_uri": "https://localhost:8080/",
          "height": 238
        },
        "id": "wL_gLHoTQHcQ",
        "outputId": "b2bba180-d0c9-4935-f5b2-4f76f435fd58"
      },
      "source": [
        "df.tail()"
      ],
      "execution_count": null,
      "outputs": [
        {
          "output_type": "execute_result",
          "data": {
            "text/html": [
              "<div>\n",
              "<style scoped>\n",
              "    .dataframe tbody tr th:only-of-type {\n",
              "        vertical-align: middle;\n",
              "    }\n",
              "\n",
              "    .dataframe tbody tr th {\n",
              "        vertical-align: top;\n",
              "    }\n",
              "\n",
              "    .dataframe thead th {\n",
              "        text-align: right;\n",
              "    }\n",
              "</style>\n",
              "<table border=\"1\" class=\"dataframe\">\n",
              "  <thead>\n",
              "    <tr style=\"text-align: right;\">\n",
              "      <th></th>\n",
              "      <th>Distance_Feature</th>\n",
              "      <th>Speeding_Feature</th>\n",
              "      <th>category</th>\n",
              "    </tr>\n",
              "    <tr>\n",
              "      <th>Number</th>\n",
              "      <th></th>\n",
              "      <th></th>\n",
              "      <th></th>\n",
              "    </tr>\n",
              "  </thead>\n",
              "  <tbody>\n",
              "    <tr>\n",
              "      <th>3995</th>\n",
              "      <td>160.04</td>\n",
              "      <td>10</td>\n",
              "      <td>B</td>\n",
              "    </tr>\n",
              "    <tr>\n",
              "      <th>3996</th>\n",
              "      <td>176.17</td>\n",
              "      <td>5</td>\n",
              "      <td>B</td>\n",
              "    </tr>\n",
              "    <tr>\n",
              "      <th>3997</th>\n",
              "      <td>170.91</td>\n",
              "      <td>12</td>\n",
              "      <td>B</td>\n",
              "    </tr>\n",
              "    <tr>\n",
              "      <th>3998</th>\n",
              "      <td>176.14</td>\n",
              "      <td>5</td>\n",
              "      <td>B</td>\n",
              "    </tr>\n",
              "    <tr>\n",
              "      <th>3999</th>\n",
              "      <td>168.03</td>\n",
              "      <td>9</td>\n",
              "      <td>B</td>\n",
              "    </tr>\n",
              "  </tbody>\n",
              "</table>\n",
              "</div>"
            ],
            "text/plain": [
              "        Distance_Feature  Speeding_Feature category\n",
              "Number                                             \n",
              "3995              160.04                10        B\n",
              "3996              176.17                 5        B\n",
              "3997              170.91                12        B\n",
              "3998              176.14                 5        B\n",
              "3999              168.03                 9        B"
            ]
          },
          "metadata": {},
          "execution_count": 14
        }
      ]
    },
    {
      "cell_type": "markdown",
      "metadata": {
        "id": "oDUZL-mBjvh3"
      },
      "source": [
        "**Printing new dataframe to new CSV file**"
      ]
    },
    {
      "cell_type": "code",
      "metadata": {
        "id": "pRVYVI9iQSHK"
      },
      "source": [
        "df.to_csv(\"new_output.csv\", index=False)"
      ],
      "execution_count": null,
      "outputs": []
    },
    {
      "cell_type": "markdown",
      "metadata": {
        "id": "tdBrTMkJNigt"
      },
      "source": [
        "**Output of new CSV file**"
      ]
    },
    {
      "cell_type": "code",
      "metadata": {
        "colab": {
          "base_uri": "https://localhost:8080/",
          "height": 238
        },
        "id": "sJszFpiONmmD",
        "outputId": "cbdf0bb4-e07c-420b-8508-55f21853e186"
      },
      "source": [
        "df.head()"
      ],
      "execution_count": null,
      "outputs": [
        {
          "output_type": "execute_result",
          "data": {
            "text/html": [
              "<div>\n",
              "<style scoped>\n",
              "    .dataframe tbody tr th:only-of-type {\n",
              "        vertical-align: middle;\n",
              "    }\n",
              "\n",
              "    .dataframe tbody tr th {\n",
              "        vertical-align: top;\n",
              "    }\n",
              "\n",
              "    .dataframe thead th {\n",
              "        text-align: right;\n",
              "    }\n",
              "</style>\n",
              "<table border=\"1\" class=\"dataframe\">\n",
              "  <thead>\n",
              "    <tr style=\"text-align: right;\">\n",
              "      <th></th>\n",
              "      <th>Distance_Feature</th>\n",
              "      <th>Speeding_Feature</th>\n",
              "      <th>category</th>\n",
              "    </tr>\n",
              "    <tr>\n",
              "      <th>Number</th>\n",
              "      <th></th>\n",
              "      <th></th>\n",
              "      <th></th>\n",
              "    </tr>\n",
              "  </thead>\n",
              "  <tbody>\n",
              "    <tr>\n",
              "      <th>0</th>\n",
              "      <td>71.24</td>\n",
              "      <td>28</td>\n",
              "      <td>C</td>\n",
              "    </tr>\n",
              "    <tr>\n",
              "      <th>1</th>\n",
              "      <td>52.53</td>\n",
              "      <td>25</td>\n",
              "      <td>C</td>\n",
              "    </tr>\n",
              "    <tr>\n",
              "      <th>2</th>\n",
              "      <td>64.54</td>\n",
              "      <td>27</td>\n",
              "      <td>C</td>\n",
              "    </tr>\n",
              "    <tr>\n",
              "      <th>3</th>\n",
              "      <td>55.69</td>\n",
              "      <td>22</td>\n",
              "      <td>C</td>\n",
              "    </tr>\n",
              "    <tr>\n",
              "      <th>4</th>\n",
              "      <td>54.58</td>\n",
              "      <td>25</td>\n",
              "      <td>C</td>\n",
              "    </tr>\n",
              "  </tbody>\n",
              "</table>\n",
              "</div>"
            ],
            "text/plain": [
              "        Distance_Feature  Speeding_Feature category\n",
              "Number                                             \n",
              "0                  71.24                28        C\n",
              "1                  52.53                25        C\n",
              "2                  64.54                27        C\n",
              "3                  55.69                22        C\n",
              "4                  54.58                25        C"
            ]
          },
          "metadata": {},
          "execution_count": 16
        }
      ]
    }
  ]
}